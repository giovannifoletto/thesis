{
 "cells": [
  {
   "cell_type": "code",
   "execution_count": 27,
   "id": "a3432392-0dc0-4143-9f94-7e2701ae5aee",
   "metadata": {},
   "outputs": [],
   "source": [
    "import json\n",
    "import os\n",
    "import subprocess"
   ]
  },
  {
   "cell_type": "code",
   "execution_count": null,
   "id": "bc892358-ded6-4b03-b3e8-7636e1f3ce5f",
   "metadata": {},
   "outputs": [],
   "source": [
    "# import all the files"
   ]
  },
  {
   "cell_type": "code",
   "execution_count": 29,
   "id": "992ff985-4a18-4189-a1ee-54ad77837658",
   "metadata": {},
   "outputs": [],
   "source": [
    "current_folder = os.getcwd()\n",
    "current_dir_files = os.listdir(current_folder)\n",
    "working_path = current_folder + \"/\" + current_dir_files[1]\n",
    "WORKING_PATH = \"/home/giovannifoletto/Documents/LogADThesis/logDS/flaws_cloudtrail_logs\"\n",
    "FILES = os.listdir(WORKING_PATH)\n",
    "\n",
    "for i in FILES:\n",
    "    subprocess.run([\"gzip\", \"-d\", WORKING_PATH+\"/\"+i])"
   ]
  },
  {
   "cell_type": "code",
   "execution_count": null,
   "id": "9a794d73-5914-450f-8ffc-55f4c91cb889",
   "metadata": {},
   "outputs": [],
   "source": [
    "JSON_FILES = os.listdir(WORKING_PATH)\n",
    "json_file = open(WORKING_PATH + \"/\" + JSON_FILES[0], \"r\")\n",
    "json_file.readlines()[0]"
   ]
  },
  {
   "cell_type": "code",
   "execution_count": null,
   "id": "60c88c3c-25dc-4a1a-9707-d233e7728f4d",
   "metadata": {},
   "outputs": [],
   "source": []
  }
 ],
 "metadata": {
  "kernelspec": {
   "display_name": "Python 3 (ipykernel)",
   "language": "python",
   "name": "python3"
  },
  "language_info": {
   "codemirror_mode": {
    "name": "ipython",
    "version": 3
   },
   "file_extension": ".py",
   "mimetype": "text/x-python",
   "name": "python",
   "nbconvert_exporter": "python",
   "pygments_lexer": "ipython3",
   "version": "3.12.0"
  }
 },
 "nbformat": 4,
 "nbformat_minor": 5
}
