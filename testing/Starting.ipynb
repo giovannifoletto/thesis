{
 "cells": [
  {
   "cell_type": "code",
   "execution_count": 2,
   "id": "6a229acb-54dd-4c66-9cc8-5f93f81c083e",
   "metadata": {},
   "outputs": [],
   "source": [
    "import os\n",
    "import json\n",
    "import gzip"
   ]
  },
  {
   "cell_type": "code",
   "execution_count": 7,
   "id": "4346f1a4-3e9b-4445-822a-506b879697a4",
   "metadata": {},
   "outputs": [
    {
     "name": "stdout",
     "output_type": "stream",
     "text": [
      "/home/giovannifoletto/Documents/LogADThesis/testing/data/\n"
     ]
    }
   ],
   "source": [
    "CWD = os.getcwd() + \"/\"\n",
    "UNZIP_FOLDER = \"data/\"\n",
    "print(CWD + UNZIP_FOLDER)"
   ]
  },
  {
   "cell_type": "code",
   "execution_count": 9,
   "id": "1a853789-b17f-4313-ad4f-ded4c6618c16",
   "metadata": {},
   "outputs": [],
   "source": [
    "# get zip and unzip it\n",
    "import subprocess\n",
    "\n",
    "FILES = os.listdir(CWD + UNZIP_FOLDER)\n",
    "\n",
    "for i in FILES:\n",
    "    subprocess.run([\"gzip\", \"-d\", CWD + UNZIP_FOLDER + i]) "
   ]
  },
  {
   "cell_type": "code",
   "execution_count": null,
   "id": "8b3bf1ab-4739-4c8a-9535-76232f2ebe7d",
   "metadata": {},
   "outputs": [],
   "source": []
  }
 ],
 "metadata": {
  "kernelspec": {
   "display_name": "Python 3 (ipykernel)",
   "language": "python",
   "name": "python3"
  },
  "language_info": {
   "codemirror_mode": {
    "name": "ipython",
    "version": 3
   },
   "file_extension": ".py",
   "mimetype": "text/x-python",
   "name": "python",
   "nbconvert_exporter": "python",
   "pygments_lexer": "ipython3",
   "version": "3.12.0"
  }
 },
 "nbformat": 4,
 "nbformat_minor": 5
}
